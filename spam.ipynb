{
  "nbformat": 4,
  "nbformat_minor": 0,
  "metadata": {
    "colab": {
      "name": "spam.ipynb",
      "provenance": [],
      "collapsed_sections": [],
      "authorship_tag": "ABX9TyNKEYIICCkM1Sr9Sse8AZw5",
      "include_colab_link": true
    },
    "kernelspec": {
      "name": "python3",
      "display_name": "Python 3"
    },
    "accelerator": "GPU"
  },
  "cells": [
    {
      "cell_type": "markdown",
      "metadata": {
        "id": "view-in-github",
        "colab_type": "text"
      },
      "source": [
        "<a href=\"https://colab.research.google.com/github/rubenguerra/Asistente_Virtual/blob/master/spam.ipynb\" target=\"_parent\"><img src=\"https://colab.research.google.com/assets/colab-badge.svg\" alt=\"Open In Colab\"/></a>"
      ]
    },
    {
      "cell_type": "markdown",
      "metadata": {
        "id": "PjUrq2ZwuqUj",
        "colab_type": "text"
      },
      "source": [
        "## DETECTAR SI UN EMAIL ES SPAM (1) O NO (0)"
      ]
    },
    {
      "cell_type": "code",
      "metadata": {
        "id": "gtMEcULHu4c_",
        "colab_type": "code",
        "colab": {}
      },
      "source": [
        "# IMPORTAMOS LAS BIBLIOTECAS\n",
        "import numpy as np\n",
        "import pandas as pd\n",
        "import nltk\n",
        "from nltk.corpus import stopwords\n",
        "import string"
      ],
      "execution_count": null,
      "outputs": []
    },
    {
      "cell_type": "code",
      "metadata": {
        "id": "dC7OhpfAvOZl",
        "colab_type": "code",
        "colab": {}
      },
      "source": [
        "# CARGAMOS LA DATA\n",
        "from google.colab import files\n"
      ],
      "execution_count": null,
      "outputs": []
    }
  ]
}